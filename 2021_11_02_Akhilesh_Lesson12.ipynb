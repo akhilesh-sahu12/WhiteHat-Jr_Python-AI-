{
  "nbformat": 4,
  "nbformat_minor": 0,
  "metadata": {
    "colab": {
      "name": "2021-11-02_Akhilesh_Lesson12",
      "provenance": [],
      "collapsed_sections": [],
      "include_colab_link": true
    },
    "kernelspec": {
      "name": "python3",
      "display_name": "Python 3"
    }
  },
  "cells": [
    {
      "cell_type": "markdown",
      "metadata": {
        "id": "view-in-github",
        "colab_type": "text"
      },
      "source": [
        "<a href=\"https://colab.research.google.com/github/akhilesh-sahu12/WhiteHat-Jr_Python-AI-/blob/master/2021_11_02_Akhilesh_Lesson12.ipynb\" target=\"_parent\"><img src=\"https://colab.research.google.com/assets/colab-badge.svg\" alt=\"Open In Colab\"/></a>"
      ]
    },
    {
      "cell_type": "markdown",
      "metadata": {
        "id": "7LlG_PPFjJUz"
      },
      "source": [
        "# Lesson 12: NumPy Arrays I\n"
      ]
    },
    {
      "cell_type": "markdown",
      "metadata": {
        "id": "3QmD9tXNboId"
      },
      "source": [
        "---"
      ]
    },
    {
      "cell_type": "markdown",
      "metadata": {
        "id": "3rJJF2_hNmmS"
      },
      "source": [
        "### Teacher-Student Tasks\n",
        "\n",
        "In the previous lesson, we learned how to create a Python list using the list comprehension method. In this lesson, we are going to learn how to create NumPy arrays.\n",
        "\n",
        "An array is also a data structure that contains multiple values. Working with NumPy arrays is much easier than working with Python lists.\n",
        "\n",
        "The term NumPy stands for Numeric (or Numerical) Python. It is one of the most popular modules amongst Statisticians and Data Scientists across the globe to perform heavy mathematical computations. NumPy arrays are also faster than Python lists in terms of code execution time.\n",
        "\n",
        "For all practical purposes, **an array is the same as a list**. Fundamentally, they have been programmed differently by the inventors of Python language. We are **NOT** required to know how they were created. We only need to know how to apply them in different situations.\n"
      ]
    },
    {
      "cell_type": "markdown",
      "metadata": {
        "id": "TD65811mb1s6"
      },
      "source": [
        "---"
      ]
    },
    {
      "cell_type": "markdown",
      "metadata": {
        "id": "8C6arOgwIdZR"
      },
      "source": [
        "#### Task 1: NumPy Arrays - The `ones()` and `zeros()` Functions\n",
        "\n",
        "To get started with NumPy arrays, let's create an array having each item as `1` with dimensions `3` rows and `3` columns. \n",
        "\n",
        "To create such an array, you first need to `import` the `numpy` module at the beginning of the code. Then use the `ones()` function from the `numpy` module.\n",
        "\n",
        "The `ones()` function requires two inputs. The first input should be the required dimension of the array and the second input should define the data type of the items in the required array. \n"
      ]
    },
    {
      "cell_type": "code",
      "metadata": {
        "id": "vlgvfn4lhd2L",
        "colab": {
          "base_uri": "https://localhost:8080/"
        },
        "outputId": "16445ee5-0021-4009-b20a-1bbc1484f85b"
      },
      "source": [
        "# S1.1: Create an array containing '1' as its items using the 'ones()' function from the 'numpy' module.\n",
        "import numpy as np\n",
        "# Step 1: Always import the 'numpy' module at the beginning of the code and give it an alias (or nickname) called np. \n",
        "# We will always refer to the 'numpy' module as 'np' throughout the code.\n",
        "\n",
        "# Step 2: Call 'ones()' function from the np module using the dot operator.\n",
        "# The 'ones()' function, requires two inputs: the dimension of the array and data type of the items which in this case is 'int'. \n",
        "number=np.ones((5,3,3),int)\n",
        "number"
      ],
      "execution_count": 1,
      "outputs": [
        {
          "output_type": "execute_result",
          "data": {
            "text/plain": [
              "array([[[1, 1, 1],\n",
              "        [1, 1, 1],\n",
              "        [1, 1, 1]],\n",
              "\n",
              "       [[1, 1, 1],\n",
              "        [1, 1, 1],\n",
              "        [1, 1, 1]],\n",
              "\n",
              "       [[1, 1, 1],\n",
              "        [1, 1, 1],\n",
              "        [1, 1, 1]],\n",
              "\n",
              "       [[1, 1, 1],\n",
              "        [1, 1, 1],\n",
              "        [1, 1, 1]],\n",
              "\n",
              "       [[1, 1, 1],\n",
              "        [1, 1, 1],\n",
              "        [1, 1, 1]]])"
            ]
          },
          "metadata": {},
          "execution_count": 1
        }
      ]
    },
    {
      "cell_type": "markdown",
      "metadata": {
        "id": "rCnmusCAc6gI"
      },
      "source": [
        "**Note:** \n",
        "\n",
        "1. Always import the `numpy` module at the beginning of the code with `np` as its alias (or nickname). Throughout the course, we will always refer to the `numpy` module as `np` unless otherwise specified.\n",
        "\n",
        "2. The de facto data type of an item in a NumPy array is `float`.\n",
        "\n",
        "Using the `type()` function, you can verify whether an array is a NumPy array or not:"
      ]
    },
    {
      "cell_type": "code",
      "metadata": {
        "id": "AXL0BiNXc7iK",
        "colab": {
          "base_uri": "https://localhost:8080/"
        },
        "outputId": "caa1c577-baeb-4344-ac4b-13be0e99612b"
      },
      "source": [
        "# S1.2: Using the 'type()' function, verify whether the 'ones' array is a NumPy array or not.\n",
        "type(number)"
      ],
      "execution_count": 2,
      "outputs": [
        {
          "output_type": "execute_result",
          "data": {
            "text/plain": [
              "numpy.ndarray"
            ]
          },
          "metadata": {},
          "execution_count": 2
        }
      ]
    },
    {
      "cell_type": "markdown",
      "metadata": {
        "id": "wwpuCqm3aIZm"
      },
      "source": [
        "As you can see, the `type()` function has returned `numpy.ndarray` as an output which confirms that the `ones` array is indeed a NumPy array. \n",
        "\n",
        "Similarly, you try to create a NumPy array having each item as `0` with dimensions `2` rows and `3` columns using the `zeros()` function. Make sure that each item is an integer:\n"
      ]
    },
    {
      "cell_type": "code",
      "metadata": {
        "id": "lD8__Mj7oT6G",
        "colab": {
          "base_uri": "https://localhost:8080/"
        },
        "outputId": "ab73e394-1fe8-49ed-c1b0-070ec1211bfc"
      },
      "source": [
        "# S1.3: Using 'zeros()' function, create a NumPy array having 2 rows and 3 columns. The items should be int data-type.\n",
        "zero=np.zeros((2,3),int)\n",
        "zero"
      ],
      "execution_count": 3,
      "outputs": [
        {
          "output_type": "execute_result",
          "data": {
            "text/plain": [
              "array([[0, 0, 0],\n",
              "       [0, 0, 0]])"
            ]
          },
          "metadata": {},
          "execution_count": 3
        }
      ]
    },
    {
      "cell_type": "markdown",
      "metadata": {
        "id": "rTfcnhivbui_"
      },
      "source": [
        "Recreate the above array without providing the data type as input. The output should be a two-dimensional array with each item as `0.` which is a floating-point number.\n"
      ]
    },
    {
      "cell_type": "code",
      "metadata": {
        "id": "iM5JTdq3b8kt",
        "colab": {
          "base_uri": "https://localhost:8080/"
        },
        "outputId": "e7d829ad-18f9-41fa-fc6d-edb665a5ed1a"
      },
      "source": [
        "# S1.4: Using 'zeros()' function, create a numpy array having 2 rows and 3 columns.\n",
        "zero1=np.zeros((2,3))\n",
        "zero1"
      ],
      "execution_count": 4,
      "outputs": [
        {
          "output_type": "execute_result",
          "data": {
            "text/plain": [
              "array([[0., 0., 0.],\n",
              "       [0., 0., 0.]])"
            ]
          },
          "metadata": {},
          "execution_count": 4
        }
      ]
    },
    {
      "cell_type": "markdown",
      "metadata": {
        "id": "M5PzhOjLfyCi"
      },
      "source": [
        "As you can see, all the items of the `zero_float` array are of `float` data type. \n"
      ]
    },
    {
      "cell_type": "markdown",
      "metadata": {
        "id": "5MTE0KcDqqUe"
      },
      "source": [
        "---"
      ]
    },
    {
      "cell_type": "markdown",
      "metadata": {
        "id": "r9A3Qj0cqrCA"
      },
      "source": [
        "#### Task 2: The `dtype` Keyword\n",
        "\n",
        "To check the data type of the values stored in a NumPy array, you can use the `dtype` keyword:\n"
      ]
    },
    {
      "cell_type": "code",
      "metadata": {
        "id": "pxd0yIn5eE9J",
        "colab": {
          "base_uri": "https://localhost:8080/"
        },
        "outputId": "5ddc9cb3-f54e-4ab7-d959-697e4758ec9b"
      },
      "source": [
        "# S2.1: Using the 'dtype' keyword, verify whether the 'zeros_float' array items are floating-point values or not. \n",
        "zero.dtype"
      ],
      "execution_count": 5,
      "outputs": [
        {
          "output_type": "execute_result",
          "data": {
            "text/plain": [
              "dtype('int64')"
            ]
          },
          "metadata": {},
          "execution_count": 5
        }
      ]
    },
    {
      "cell_type": "markdown",
      "metadata": {
        "id": "zym6XMZugTPY"
      },
      "source": [
        "**Note:** For the time being ignore the number `64`.\n",
        "\n",
        "As you can see, the `dtype` keyword has returned `dtype('float64')` as an output confirming that all the items of the `zeros_float` array are floating-point values: \n"
      ]
    },
    {
      "cell_type": "code",
      "metadata": {
        "id": "2lFDm3JvgwgN",
        "colab": {
          "base_uri": "https://localhost:8080/"
        },
        "outputId": "b3f2e862-380b-4e17-8d8a-d73104642a16"
      },
      "source": [
        "# S2.2: Using the 'dtype' keyword, verify whether the 'ones' array items are int values or not. \n",
        "zero1.dtype"
      ],
      "execution_count": 6,
      "outputs": [
        {
          "output_type": "execute_result",
          "data": {
            "text/plain": [
              "dtype('float64')"
            ]
          },
          "metadata": {},
          "execution_count": 6
        }
      ]
    },
    {
      "cell_type": "markdown",
      "metadata": {
        "id": "YqEeGauMg6Gd"
      },
      "source": [
        "For the time being ignore the number `64`. As you can see, the `dtype` keyword has returned `dtype('int64')` as an output confirming that all the items of the `ones` array are integer values. \n",
        " \n",
        "\n",
        "**Difference between the `type()` function and the `dtype` keyword**\n",
        "\n",
        "The `type()` function is a function of Python. It returns the type of Python object. The data types or more accurately the **primitive data types** `int`, `float`, `str`, and `bool` are Python objects. Similarly, Python lists, NumPy modules, `random` modules are also Python objects. The `type()` function will tell you what type of Python objects they are:"
      ]
    },
    {
      "cell_type": "code",
      "metadata": {
        "id": "cA-nCcNS6T9I",
        "colab": {
          "base_uri": "https://localhost:8080/"
        },
        "outputId": "26edfc07-df85-45df-a56f-f543728c602d"
      },
      "source": [
        "# S2.3: Run the code shown below to see that the 'type()' function returns the type of Python object.\n",
        "import random\n",
        "print(type(6))\n",
        "print(type(8.99))\n",
        "print(type('Akhil'))\n",
        "print(type([6,8,9]))\n",
        "print(type(np))\n",
        "print(type(random))\n"
      ],
      "execution_count": 8,
      "outputs": [
        {
          "output_type": "stream",
          "name": "stdout",
          "text": [
            "<class 'int'>\n",
            "<class 'float'>\n",
            "<class 'str'>\n",
            "<class 'list'>\n",
            "<class 'module'>\n",
            "<class 'module'>\n"
          ]
        }
      ]
    },
    {
      "cell_type": "markdown",
      "metadata": {
        "id": "oJqyhPWq77Uw"
      },
      "source": [
        "In the output, ignore the term `class`. We will explore this term in more detail in the upcoming classes.\n",
        "\n",
        "As you can see, the `type()` function indeed returns the type of Python object for an entity in Python."
      ]
    },
    {
      "cell_type": "markdown",
      "metadata": {
        "id": "qikzHXnYobUR"
      },
      "source": [
        "---"
      ]
    },
    {
      "cell_type": "markdown",
      "metadata": {
        "id": "qkZj_ZVTiHz9"
      },
      "source": [
        "#### Task 3: The `ndim` and `shape` Keywords\n",
        "\n",
        "**The `ndim` keyword:** Using the `ndim` keyword, you can find out the dimension of a NumPy array. The `ones`, `zeros`, and `zeros_float` arrays are two-dimensional arrays. So, the `ndim` keyword should return `2` for each of these arrays."
      ]
    },
    {
      "cell_type": "code",
      "metadata": {
        "id": "aKuQhbixiMVK",
        "colab": {
          "base_uri": "https://localhost:8080/"
        },
        "outputId": "8588f830-b871-4fae-90c3-94c5e0c3c8a8"
      },
      "source": [
        "# S3.1: Using the 'ndim' array, find out the dimension of 'ones', 'zeros', and 'zeros_float' NumPy arrays.\n",
        "number.ndim"
      ],
      "execution_count": 9,
      "outputs": [
        {
          "output_type": "execute_result",
          "data": {
            "text/plain": [
              "3"
            ]
          },
          "metadata": {},
          "execution_count": 9
        }
      ]
    },
    {
      "cell_type": "markdown",
      "metadata": {
        "id": "tC0fYlbmlRxH"
      },
      "source": [
        "**The `shape` keyword:** Using the `shape` keyword, you can find out the number of rows and columns present in NumPy arrays."
      ]
    },
    {
      "cell_type": "code",
      "metadata": {
        "id": "f8jxBActlY0o",
        "colab": {
          "base_uri": "https://localhost:8080/"
        },
        "outputId": "380ee4c2-ae39-4bf1-c03d-775747ede902"
      },
      "source": [
        "# S3.2: Using the 'shape' keyword find out the number of blocks, rows, and columns in the 'ones', 'zeros', and 'zeros_float' arrays.\n",
        "number.shape"
      ],
      "execution_count": 10,
      "outputs": [
        {
          "output_type": "execute_result",
          "data": {
            "text/plain": [
              "(5, 3, 3)"
            ]
          },
          "metadata": {},
          "execution_count": 10
        }
      ]
    },
    {
      "cell_type": "markdown",
      "metadata": {
        "id": "Sr-QqVlgmB7G"
      },
      "source": [
        "From the above output, we can conclude that:\n",
        "\n",
        "- The `ones` array has 3 rows and 3 columns.\n",
        "\n",
        "- The `zeros` array has 2 rows and 3 columns.\n",
        "\n",
        "- The `zeros_ones` array also has 2 rows and 3 columns."
      ]
    },
    {
      "cell_type": "markdown",
      "metadata": {
        "id": "jW-6nwfUlQi1"
      },
      "source": [
        "---"
      ]
    },
    {
      "cell_type": "markdown",
      "metadata": {
        "id": "83zFWveBmVT4"
      },
      "source": [
        "#### Task 4: The `arange()` and `linspace()` Functions\n",
        "\n",
        "There are `arange()` and `linspace()` functions in NumPy module create an array of numbers such that the difference between a pair of any two consecutive numbers in the array is constant. However, there is a slight difference in their outputs.\n",
        "\n",
        "**The `arange()` function:** It returns a one-dimensional array containing numbers between two specific numbers. It is similar to the `range()` function in the `for` loop."
      ]
    },
    {
      "cell_type": "code",
      "metadata": {
        "id": "RvOk2XS6mz7g",
        "colab": {
          "base_uri": "https://localhost:8080/"
        },
        "outputId": "f5f4ce0f-41fe-4e23-bc6d-f52ef392bb44"
      },
      "source": [
        "# S4.1: Create a one-dimensional array containing numbers between 5 and 20 using the 'arange()' function in the NumPy module.\n",
        "np.arange(5,21)"
      ],
      "execution_count": 11,
      "outputs": [
        {
          "output_type": "execute_result",
          "data": {
            "text/plain": [
              "array([ 5,  6,  7,  8,  9, 10, 11, 12, 13, 14, 15, 16, 17, 18, 19, 20])"
            ]
          },
          "metadata": {},
          "execution_count": 11
        }
      ]
    },
    {
      "cell_type": "markdown",
      "metadata": {
        "id": "17OYVXuAm2Jl"
      },
      "source": [
        "Here, the `arange()` function has created an array of numbers from `5` to `20`. The difference between a pair of any two consecutive numbers is `1`. The `arange()` function will not include the last number specified in the array created.\n",
        "\n",
        "If you want the difference between two consecutive numbers to be greater than `1` (say `4`) in an array, then you can specify the difference as an additional input to the `arange()` function."
      ]
    },
    {
      "cell_type": "code",
      "metadata": {
        "id": "MlDrsatOm4uU",
        "colab": {
          "base_uri": "https://localhost:8080/"
        },
        "outputId": "a810edfe-5560-4af5-ae1a-154417d626a3"
      },
      "source": [
        "# S4.2: Create an array of numbers from 1 to 24 such that the difference between two consecutive numbers is 4.\n",
        "np.arange(5,25,4)"
      ],
      "execution_count": 12,
      "outputs": [
        {
          "output_type": "execute_result",
          "data": {
            "text/plain": [
              "array([ 5,  9, 13, 17, 21])"
            ]
          },
          "metadata": {},
          "execution_count": 12
        }
      ]
    },
    {
      "cell_type": "markdown",
      "metadata": {
        "id": "5_r2bBl4m7cm"
      },
      "source": [
        "As you can see, the `arange()` function has created an array of numbers from `1` to `24` such that the difference between two consecutive numbers is `4`. \n",
        "\n",
        "**Note:** If the difference between two consecutive numbers is not specified, then the `arange()` function will assume that the difference is `1`.\n",
        "\n",
        "You can also create an array containing the floating-point numbers using the `arange()` function by providing `dtype=float` as an additional input to the function."
      ]
    },
    {
      "cell_type": "code",
      "metadata": {
        "id": "G3TJYq0dm9qU",
        "colab": {
          "base_uri": "https://localhost:8080/"
        },
        "outputId": "6950ced5-bf7c-430d-b98a-f8e64d5d547a"
      },
      "source": [
        "# S4.3: Create an array of numbers from 1 to 24 such that the difference between two consecutive numbers is 4 and each item is a float.\n",
        "np.arange(1,21,3,float)"
      ],
      "execution_count": 13,
      "outputs": [
        {
          "output_type": "execute_result",
          "data": {
            "text/plain": [
              "array([ 1.,  4.,  7., 10., 13., 16., 19.])"
            ]
          },
          "metadata": {},
          "execution_count": 13
        }
      ]
    },
    {
      "cell_type": "markdown",
      "metadata": {
        "id": "UnR5FyRpnAWy"
      },
      "source": [
        "As you can see, the items contained in `array3` are floating-point numbers.\n",
        "\n",
        "**The `linspace()` function:** This function creates an array containing a fixed number of numbers between two specific numbers such that the difference between any two consecutive numbers in the array is constant. This will be clear to you with an example.\n",
        "\n",
        "Suppose you want to create an array containing exactly `4` numbers between the numbers `1` and `25` such that all the difference between any two consecutive numbers is constant, then you can use the `linspace()` function."
      ]
    },
    {
      "cell_type": "code",
      "metadata": {
        "id": "SCdhTcEinE9y",
        "colab": {
          "base_uri": "https://localhost:8080/"
        },
        "outputId": "5427b77d-bfc3-4980-9ded-b8b69af64f63"
      },
      "source": [
        "# S4.4: Create an array containing 4 numbers between 1 to 25.\n",
        "array4 = np.linspace(1, 25, 4)\n",
        "array4"
      ],
      "execution_count": null,
      "outputs": [
        {
          "output_type": "execute_result",
          "data": {
            "text/plain": [
              "array([ 1.,  9., 17., 25.])"
            ]
          },
          "metadata": {
            "tags": []
          },
          "execution_count": 13
        }
      ]
    },
    {
      "cell_type": "markdown",
      "metadata": {
        "id": "aNIZgk9NnF1G"
      },
      "source": [
        "As you can see, the `linspace()` function has created an array containing `4` numbers between `1` and `25` (including `25`) such that the difference between two consecutive numbers is constant. Take a pair of any two consecutive numbers in `array5`, the difference between them will be `8.`\n",
        "\n",
        "**Note:** Notice the difference between the outputs of the `arange()` and `linspace()` functions for the same inputs. The `arange()` function returns `6` numbers such that the difference between them is exactly `4` whereas the `linspace()` function returns exactly `4` numbers such that the difference between two consecutive numbers is constant. \n",
        "\n",
        "In other words:\n",
        "\n",
        "- In the `arange()` function, you specify the value of the difference between two consecutive numbers as the third input.\n",
        "\n",
        "- Whereas, in the `linspace()` function, you specify the length of the array to be created as the third input.\n",
        "\n",
        "Let's create another array using the `linspace()` function to get a better understanding. Let's create an array containing `10` numbers between `1` and `25` such that the difference between two consecutive numbers is constant. \n"
      ]
    },
    {
      "cell_type": "code",
      "metadata": {
        "id": "Yma1-oPkFXuU",
        "colab": {
          "base_uri": "https://localhost:8080/"
        },
        "outputId": "ecac19c1-835c-496a-e416-c91d921e900f"
      },
      "source": [
        "# S4.5: Create an array containing 10 numbers between 1 and 25 such that the difference between two consecutive numbers is constant.\n",
        "np.linspace(1,25,10)"
      ],
      "execution_count": 14,
      "outputs": [
        {
          "output_type": "execute_result",
          "data": {
            "text/plain": [
              "array([ 1.        ,  3.66666667,  6.33333333,  9.        , 11.66666667,\n",
              "       14.33333333, 17.        , 19.66666667, 22.33333333, 25.        ])"
            ]
          },
          "metadata": {},
          "execution_count": 14
        }
      ]
    },
    {
      "cell_type": "markdown",
      "metadata": {
        "id": "LjM6JCndGMR9"
      },
      "source": [
        "Take a pair of any two consecutive numbers in the `array5`, the difference between them will be `2.66666666`"
      ]
    },
    {
      "cell_type": "markdown",
      "metadata": {
        "id": "KQ0PGPSitkjx"
      },
      "source": [
        "---"
      ]
    },
    {
      "cell_type": "markdown",
      "metadata": {
        "id": "i5XfedwAtmQn"
      },
      "source": [
        "#### Task 5: The `reshape()` Function\n",
        "\n",
        "\n",
        "The `reshape()` function reshapes an array from one configuration to another without changing the items.\n",
        "\n",
        "The `zeros` array has 2 rows and 3 columns. Suppose you want to reshape it into another array having `6` rows and `4` columns without changing the items, then you can use the `reshape()` function:"
      ]
    },
    {
      "cell_type": "code",
      "metadata": {
        "id": "TVSPwGGJuZUb",
        "colab": {
          "base_uri": "https://localhost:8080/"
        },
        "outputId": "29ff052d-0620-43bb-e5c8-9122ccb78f34"
      },
      "source": [
        "# S5.1: Reshape the 'zeros' array so that it has 6 rows and 4 columns.\n",
        "one_dim=number.reshape(45,)\n",
        "one_dim"
      ],
      "execution_count": 15,
      "outputs": [
        {
          "output_type": "execute_result",
          "data": {
            "text/plain": [
              "array([1, 1, 1, 1, 1, 1, 1, 1, 1, 1, 1, 1, 1, 1, 1, 1, 1, 1, 1, 1, 1, 1,\n",
              "       1, 1, 1, 1, 1, 1, 1, 1, 1, 1, 1, 1, 1, 1, 1, 1, 1, 1, 1, 1, 1, 1,\n",
              "       1])"
            ]
          },
          "metadata": {},
          "execution_count": 15
        }
      ]
    },
    {
      "cell_type": "markdown",
      "metadata": {
        "id": "UR-_4ugcudOM"
      },
      "source": [
        "The `reshape()` function has reshaped the `zeros` array to a two-dimensional array having 3 rows and 2 columns. Inside the `reshape()` function, you have to provide the new configuration. \n",
        "\n",
        "This operation is only valid when the number of items in the new configuration is the same as the number of items in the original configuration. \n",
        "\n",
        "In this case, there are 6 items  in the original configuration. So the new configuration must also have 6 items.\n"
      ]
    },
    {
      "cell_type": "markdown",
      "metadata": {
        "id": "PABm6WB9mUbu"
      },
      "source": [
        "---"
      ]
    },
    {
      "cell_type": "markdown",
      "metadata": {
        "id": "BzGc9n870SGw"
      },
      "source": [
        "#### Task 6: The `ndarray()` Function\n",
        "In general, we can create a NumPy array containing some random values using `ndarray()` function.\n",
        "\n",
        "Let's say we want to create a NumPy array having some random integer values which have 5 rows and 2 columns, then you can use the `ndarray()` function.\n",
        "\n",
        "Similar to the `zeros()` and `ones()` functions, the `ndarray()` function takes two inputs: the first input is the configuration of the required array and the second input is the data type of items. The de facto data type is a floating-point value:"
      ]
    },
    {
      "cell_type": "code",
      "metadata": {
        "id": "col1d2ca0H9D",
        "colab": {
          "base_uri": "https://localhost:8080/"
        },
        "outputId": "f8863068-3d63-44e1-e0cc-16d9e1019893"
      },
      "source": [
        "# S6.1: Create a 'numpy' array using 'ndarray()' function having 5 rows and 2 columns.\n",
        "rand_num=np.ndarray((5,3),int)\n",
        "rand_num"
      ],
      "execution_count": 16,
      "outputs": [
        {
          "output_type": "execute_result",
          "data": {
            "text/plain": [
              "array([[     94377033969536,        210453397554,        210453397549],\n",
              "       [       193273528369,        214748364848,        210453397588],\n",
              "       [       249108103221,        240518168625,        227633266746],\n",
              "       [       197568495664,        227633266744,        240518168633],\n",
              "       [       206158430262, 7233184986180878426,     137839914269218]])"
            ]
          },
          "metadata": {},
          "execution_count": 16
        }
      ]
    },
    {
      "cell_type": "markdown",
      "metadata": {
        "id": "cQmO3nvTqk5J"
      },
      "source": [
        "From the above output, you may observe that the `ndarray()` function has created an array of desired shapes containing random integers.\n",
        "\n"
      ]
    },
    {
      "cell_type": "markdown",
      "metadata": {
        "id": "7kDnzej73oIB"
      },
      "source": [
        "---"
      ]
    },
    {
      "cell_type": "markdown",
      "metadata": {
        "id": "w3vt6nG702lD"
      },
      "source": [
        "#### Task 7: The `random.randint()` Function\n",
        "\n",
        "The NumPy module also has its `random.randint()` function. It takes two inputs. The first input is the range of two integers between which a random number is to be created. The second input is the `size` parameter which defines the number of random integers to be created.\n",
        "\n",
        "**Syntax:** `np.random.randint(num1, num2, size=N)`\n",
        " \n",
        " Where `num1` and `num2` are starting numbers and `N` is the number of items to be contained in the array."
      ]
    },
    {
      "cell_type": "code",
      "metadata": {
        "id": "afZhlYWK03jU",
        "colab": {
          "base_uri": "https://localhost:8080/"
        },
        "outputId": "56777976-b7ad-4f6a-9e36-5603b921cec5"
      },
      "source": [
        "# S7.1: Create a one-dimensional NumPy array containing 15 random integers between 50 and 100.\n",
        "np.random.randint(50,101,(3,5))"
      ],
      "execution_count": 18,
      "outputs": [
        {
          "output_type": "execute_result",
          "data": {
            "text/plain": [
              "array([[68, 79, 51, 76, 97],\n",
              "       [90, 93, 74, 80, 54],\n",
              "       [56, 92, 98, 82, 92]])"
            ]
          },
          "metadata": {},
          "execution_count": 18
        }
      ]
    },
    {
      "cell_type": "markdown",
      "metadata": {
        "id": "zginraKG07S-"
      },
      "source": [
        "Similarly, you can create a multi-dimensional NumPy array containing random integers by specifying the dimensions of the array to be created in the `size` parameter:"
      ]
    },
    {
      "cell_type": "code",
      "metadata": {
        "id": "4ts8pu2108A7"
      },
      "source": [
        "# S7.2: Create a two-dimensional NumPy array containing 15 random integers between 50 and 100.\n"
      ],
      "execution_count": null,
      "outputs": []
    },
    {
      "cell_type": "markdown",
      "metadata": {
        "id": "GxD5DdNrrdzu"
      },
      "source": [
        "In this way, you can generate one-dimensional and two-dimensional arrays containing random numbers within a specific range using `random.randint()` function."
      ]
    },
    {
      "cell_type": "markdown",
      "metadata": {
        "id": "v57wLWnh01qh"
      },
      "source": [
        "---"
      ]
    },
    {
      "cell_type": "markdown",
      "metadata": {
        "id": "V_OCAj0f3paN"
      },
      "source": [
        "#### Task 8: The `array()` Function\n",
        "\n",
        "\n",
        "We can convert a Python list into a NumPy array. To do this, use the `array()` function which takes a Python list as an input.\n",
        "\n",
        "Let's first create a list of natural numbers from `1` to `15` using the list comprehension method. Then convert the list into a NumPy array using the `array()` function:"
      ]
    },
    {
      "cell_type": "code",
      "metadata": {
        "id": "ekUreHwA4AuX",
        "colab": {
          "base_uri": "https://localhost:8080/"
        },
        "outputId": "af1f9fed-57ad-4447-9444-0a928823cc04"
      },
      "source": [
        "# S8.1: Convert a Python list into a NumPy array using the 'array()' function.\n",
        "num=np.array([2,7,5,4,8])\n",
        "num"
      ],
      "execution_count": 19,
      "outputs": [
        {
          "output_type": "execute_result",
          "data": {
            "text/plain": [
              "array([2, 7, 5, 4, 8])"
            ]
          },
          "metadata": {},
          "execution_count": 19
        }
      ]
    },
    {
      "cell_type": "markdown",
      "metadata": {
        "id": "EqudPIx11ZHd"
      },
      "source": [
        "To check whether a Python list is converted into a NumPy array or not, you can use the `type()` function:"
      ]
    },
    {
      "cell_type": "code",
      "metadata": {
        "id": "VOEbjYwC1nF7",
        "colab": {
          "base_uri": "https://localhost:8080/"
        },
        "outputId": "7d1dd897-7b96-42ae-cc6b-34497a1145b0"
      },
      "source": [
        "# S8.2: Verify whether the 'arr' array is a NumPy array or a Python list.\n",
        "type(num)"
      ],
      "execution_count": 20,
      "outputs": [
        {
          "output_type": "execute_result",
          "data": {
            "text/plain": [
              "numpy.ndarray"
            ]
          },
          "metadata": {},
          "execution_count": 20
        }
      ]
    },
    {
      "cell_type": "markdown",
      "metadata": {
        "id": "0fUxUM9Jr28f"
      },
      "source": [
        "From the above output, we observe that we have successfully created a NumPy `ndarray` object from a Python list using the `array()` function."
      ]
    },
    {
      "cell_type": "markdown",
      "metadata": {
        "id": "2doxkX1qyC9S"
      },
      "source": [
        "---"
      ]
    },
    {
      "cell_type": "markdown",
      "metadata": {
        "id": "yDM2ZGP6J00k"
      },
      "source": [
        "#### Task 9: The `list()` Function\n",
        "\n",
        "We can convert a NumPy array into a Python list using the `list()` function.\n",
        "\n",
        "Let's convert the `arr` NumPy array into a Python list using the `list()` function:"
      ]
    },
    {
      "cell_type": "code",
      "metadata": {
        "id": "SkKJekR5KOad",
        "colab": {
          "base_uri": "https://localhost:8080/"
        },
        "outputId": "1652bbaf-de71-4065-8247-d7028f9d99a7"
      },
      "source": [
        "# S9.1: Convert a NumPy array into a Python list using the 'list()' function.\n",
        "li=list(num)\n",
        "li"
      ],
      "execution_count": 21,
      "outputs": [
        {
          "output_type": "execute_result",
          "data": {
            "text/plain": [
              "[2, 7, 5, 4, 8]"
            ]
          },
          "metadata": {},
          "execution_count": 21
        }
      ]
    },
    {
      "cell_type": "markdown",
      "metadata": {
        "id": "PNrK6z-HKcgr"
      },
      "source": [
        "Let's verify whether the conversion happened or not using the `type()` function:"
      ]
    },
    {
      "cell_type": "code",
      "metadata": {
        "id": "us1-glqEKZ_m",
        "colab": {
          "base_uri": "https://localhost:8080/"
        },
        "outputId": "fecac2d9-cbb7-477c-eab3-5468f7ed7f88"
      },
      "source": [
        "# S9.2: Verify whether the 'arr_converted' list is a Python list or not.\n",
        "type(li)"
      ],
      "execution_count": 22,
      "outputs": [
        {
          "output_type": "execute_result",
          "data": {
            "text/plain": [
              "list"
            ]
          },
          "metadata": {},
          "execution_count": 22
        }
      ]
    },
    {
      "cell_type": "markdown",
      "metadata": {
        "id": "4R2D_nX5Kzg5"
      },
      "source": [
        "As you can see, the output is a `list`. Hence, we successfully converted the NumPy array to a Python list using the `list()` function."
      ]
    },
    {
      "cell_type": "markdown",
      "metadata": {
        "id": "sOoBZyjS0e9W"
      },
      "source": [
        "---"
      ]
    },
    {
      "cell_type": "markdown",
      "metadata": {
        "id": "-XLCEilb0fqW"
      },
      "source": [
        "#### Task 10: The `sqrt()` Function\n",
        "\n",
        "One of the most notorious concepts in maths is Heron's formula. It calculates the area of a triangle having sides $a, b, \\space \\text{and} \\space c$.\n",
        "\n",
        "<img src='https://drive.google.com/uc?id=18SFm-ovV_QnKufMNNaXB6aWhIhT1cVki' width=500>\n",
        "\n",
        "According to Heron's formula, the area of a triangle is given by.\n",
        "\n",
        "$$\\text{Area} = \\sqrt{s(s-a)(s-b)(s-c)}$$\n",
        "\n",
        "Where,\n",
        "$$s = \\frac{a + b + c}{2}$$\n",
        "\n",
        "i.e., the semi-perimeter of a triangle.\n",
        "\n",
        "Let's create a function that takes the lengths of the sides of a triangle and checks whether the lengths indeed represent the lengths of the sides of a triangle.\n",
        "\n",
        "*The sum of lengths of any two sides of a triangle is always greater than the length of the third side.*\n",
        "\n",
        "If the lengths meet the criteria for being the lengths of the sides of a triangle, then the function should return `True`. Else it should return `False`."
      ]
    },
    {
      "cell_type": "code",
      "metadata": {
        "id": "_TUP-If80jOu"
      },
      "source": [
        "# S10.1: Create a function to check whether the input lenghts represent the lengths of the side of a triangle.\n"
      ],
      "execution_count": null,
      "outputs": []
    },
    {
      "cell_type": "markdown",
      "metadata": {
        "id": "PVoy-up50jrT"
      },
      "source": [
        "Now, let's create a function to calculate the area of a triangle using Heron's formula. The function must include the `is_triangle()` function and `np.sqrt()` functions. If the invalid side lengths are passed as input to the function, then it should return an `Invalid triangle.` message else it should return the area of a triangle.\n"
      ]
    },
    {
      "cell_type": "code",
      "metadata": {
        "id": "MykC-hZR0ls9"
      },
      "source": [
        "# S10.2: Create a function to calculate the area of a triangle using Heron's formula.\n"
      ],
      "execution_count": null,
      "outputs": []
    },
    {
      "cell_type": "markdown",
      "metadata": {
        "id": "TONrRiAe2x9w"
      },
      "source": [
        "Alternatively, you can raise a number to the power `0.5` to calculate the square root of a number, but it will return a complex number as an output for a negative number. On the other hand, the `np.sqrt()` function returns `nan` for negative numbers. It stands for **not a number** and denotes a NumPy null value."
      ]
    },
    {
      "cell_type": "markdown",
      "metadata": {
        "id": "m8imnv9bTgxr"
      },
      "source": [
        "We will stop here. Thus, in this class, we learned how to create a NumPy array and some basic NumPy functions. In the next class, we will learn to create three-dimensional arrays and also explore the Claude Shannon Mind Reading algorithm."
      ]
    },
    {
      "cell_type": "markdown",
      "metadata": {
        "id": "DpXlygkgK_jk"
      },
      "source": [
        "---"
      ]
    }
  ]
}